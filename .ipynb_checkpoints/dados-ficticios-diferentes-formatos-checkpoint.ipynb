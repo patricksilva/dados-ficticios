{
 "cells": [
  {
   "cell_type": "code",
   "execution_count": 1,
   "id": "03f0b988-38c3-411f-b25e-178936802ee3",
   "metadata": {},
   "outputs": [],
   "source": [
    "import pandas as pd"
   ]
  },
  {
   "cell_type": "code",
   "execution_count": 32,
   "id": "ef1a6650-2f17-416a-82ab-63e7f3e7df95",
   "metadata": {},
   "outputs": [],
   "source": [
    "import glob\n",
    "\n",
    "csv_files = []\n",
    "for file in glob.glob(\"./csv/*.csv\"):\n",
    "    csv_files.append(file)"
   ]
  },
  {
   "cell_type": "code",
   "execution_count": 33,
   "id": "f6e81fe1-03f8-420e-8f97-1919ef965ac8",
   "metadata": {},
   "outputs": [
    {
     "data": {
      "text/plain": [
       "['./csv\\\\dados_ficticios_carga_incremental_e_controle_de_mudancas-product.csv',\n",
       " './csv\\\\dados_ficticios_carga_incremental_e_controle_de_mudancas.csv']"
      ]
     },
     "execution_count": 33,
     "metadata": {},
     "output_type": "execute_result"
    }
   ],
   "source": [
    "csv_files"
   ]
  },
  {
   "cell_type": "markdown",
   "id": "dbcf7dff-af38-499a-bf8b-194dfa7a8478",
   "metadata": {},
   "source": [
    "## Fonte CSV"
   ]
  },
  {
   "cell_type": "code",
   "execution_count": 36,
   "id": "7aecf4fa-b691-40ca-a08d-a942385b3b5d",
   "metadata": {},
   "outputs": [],
   "source": [
    "df = pd.read_csv(csv_files[0])"
   ]
  },
  {
   "cell_type": "code",
   "execution_count": 3,
   "id": "d6410018-8603-4a99-a92a-96d9f598e806",
   "metadata": {},
   "outputs": [],
   "source": [
    "df = pd.read_csv(\"./csv/dados_ficticios_carga_incremental_e_controle_de_mudancas.csv\")"
   ]
  },
  {
   "cell_type": "code",
   "execution_count": 37,
   "id": "fa864483-5d5e-49cc-b3f1-666f43f60a8e",
   "metadata": {},
   "outputs": [
    {
     "data": {
      "text/html": [
       "<div>\n",
       "<style scoped>\n",
       "    .dataframe tbody tr th:only-of-type {\n",
       "        vertical-align: middle;\n",
       "    }\n",
       "\n",
       "    .dataframe tbody tr th {\n",
       "        vertical-align: top;\n",
       "    }\n",
       "\n",
       "    .dataframe thead th {\n",
       "        text-align: right;\n",
       "    }\n",
       "</style>\n",
       "<table border=\"1\" class=\"dataframe\">\n",
       "  <thead>\n",
       "    <tr style=\"text-align: right;\">\n",
       "      <th></th>\n",
       "      <th>id</th>\n",
       "      <th>c1</th>\n",
       "      <th>dt</th>\n",
       "    </tr>\n",
       "  </thead>\n",
       "  <tbody>\n",
       "    <tr>\n",
       "      <th>0</th>\n",
       "      <td>1</td>\n",
       "      <td>product 1</td>\n",
       "      <td>2021/01/31 23:59:59</td>\n",
       "    </tr>\n",
       "    <tr>\n",
       "      <th>1</th>\n",
       "      <td>2</td>\n",
       "      <td>product 2</td>\n",
       "      <td>2021/01/31 23:59:59</td>\n",
       "    </tr>\n",
       "    <tr>\n",
       "      <th>2</th>\n",
       "      <td>3</td>\n",
       "      <td>product 3</td>\n",
       "      <td>2021/01/31 23:59:59</td>\n",
       "    </tr>\n",
       "    <tr>\n",
       "      <th>3</th>\n",
       "      <td>4</td>\n",
       "      <td>product 4</td>\n",
       "      <td>2021/01/31 23:59:59</td>\n",
       "    </tr>\n",
       "    <tr>\n",
       "      <th>4</th>\n",
       "      <td>5</td>\n",
       "      <td>product 5</td>\n",
       "      <td>2021/01/31 23:59:59</td>\n",
       "    </tr>\n",
       "  </tbody>\n",
       "</table>\n",
       "</div>"
      ],
      "text/plain": [
       "   id         c1                   dt\n",
       "0   1  product 1  2021/01/31 23:59:59\n",
       "1   2  product 2  2021/01/31 23:59:59\n",
       "2   3  product 3  2021/01/31 23:59:59\n",
       "3   4  product 4  2021/01/31 23:59:59\n",
       "4   5  product 5  2021/01/31 23:59:59"
      ]
     },
     "execution_count": 37,
     "metadata": {},
     "output_type": "execute_result"
    }
   ],
   "source": [
    "df"
   ]
  },
  {
   "cell_type": "markdown",
   "id": "a87f7d6e-f1c4-4330-aa87-e716f8b03147",
   "metadata": {},
   "source": [
    "## JSON"
   ]
  },
  {
   "cell_type": "code",
   "execution_count": 25,
   "id": "70a365ca-4cf4-4a98-8790-82f130e532fd",
   "metadata": {},
   "outputs": [],
   "source": [
    "json_orient_modes = ['split','records','index','columns','values','table']\n",
    "\n",
    "for p in json_orient_modes:\n",
    "    df.to_json(f\"./json/dados_ficticios_carga_incremental_e_controle_de_mudancas-json-orient-{p}.json\", orient=p)"
   ]
  },
  {
   "cell_type": "markdown",
   "id": "2e5d2e1c-fca0-499f-95bc-5167415be310",
   "metadata": {},
   "source": [
    "## JSON Lines"
   ]
  },
  {
   "cell_type": "code",
   "execution_count": 26,
   "id": "4c4c1abf-3447-4ab2-acf5-3a0dc2ededd1",
   "metadata": {},
   "outputs": [],
   "source": [
    "df.to_json('./json/dados_ficticios_carga_incremental_e_controle_de_mudancas.jsonl', orient='records', lines=True)"
   ]
  },
  {
   "cell_type": "markdown",
   "id": "c9ac6fae-8a9c-4a20-9a6b-25ec55b827a2",
   "metadata": {},
   "source": [
    "## Parquet"
   ]
  },
  {
   "cell_type": "code",
   "execution_count": 27,
   "id": "392bbbf5-8049-4558-bcd8-0b957c447c85",
   "metadata": {},
   "outputs": [],
   "source": [
    "df.to_parquet('./parquet/dados_ficticios_carga_incremental_e_controle_de_mudancas.parquet', compression=\"snappy\")"
   ]
  },
  {
   "cell_type": "markdown",
   "id": "8dfa7efd-4897-43a0-ad8c-2601243d6354",
   "metadata": {},
   "source": [
    "## Batch processing"
   ]
  },
  {
   "cell_type": "code",
   "execution_count": 49,
   "id": "6580e10f-359b-4a21-bf32-e7b07cf1531a",
   "metadata": {},
   "outputs": [
    {
     "name": "stdout",
     "output_type": "stream",
     "text": [
      "./json\\dados_ficticios_carga_incremental_e_controle_de_mudancas-product-json-orient-split.json\n",
      "./json\\dados_ficticios_carga_incremental_e_controle_de_mudancas-product-json-orient-records.json\n",
      "./json\\dados_ficticios_carga_incremental_e_controle_de_mudancas-product-json-orient-index.json\n",
      "./json\\dados_ficticios_carga_incremental_e_controle_de_mudancas-product-json-orient-columns.json\n",
      "./json\\dados_ficticios_carga_incremental_e_controle_de_mudancas-product-json-orient-values.json\n",
      "./json\\dados_ficticios_carga_incremental_e_controle_de_mudancas-product-json-orient-table.json\n",
      "./json\\dados_ficticios_carga_incremental_e_controle_de_mudancas-json-orient-split.json\n",
      "./json\\dados_ficticios_carga_incremental_e_controle_de_mudancas-json-orient-records.json\n",
      "./json\\dados_ficticios_carga_incremental_e_controle_de_mudancas-json-orient-index.json\n",
      "./json\\dados_ficticios_carga_incremental_e_controle_de_mudancas-json-orient-columns.json\n",
      "./json\\dados_ficticios_carga_incremental_e_controle_de_mudancas-json-orient-values.json\n",
      "./json\\dados_ficticios_carga_incremental_e_controle_de_mudancas-json-orient-table.json\n"
     ]
    }
   ],
   "source": [
    "json_orient_modes = ['split','records','index','columns','values','table']\n",
    "\n",
    "for s in csv_files:\n",
    "    df = pd.read_csv(s)\n",
    "    for p in json_orient_modes:\n",
    "        temp = s.replace('.csv',f\"-json-orient-{p}.json\").replace('./csv','./json')\n",
    "        print(temp)\n",
    "        df.to_json(s.replace('.csv',f\"-json-orient-{p}.json\").replace('./csv','./json'), orient=p)\n",
    "    df.to_json(s.replace('.csv',f\"-json-orient-records.jsonl\").replace('./csv','./json'), orient='records', lines=True)\n",
    "    df.to_parquet(s.replace('.csv','.parquet').replace('./csv','./parquet'), compression=\"snappy\")\n",
    "    "
   ]
  },
  {
   "cell_type": "code",
   "execution_count": null,
   "id": "dd7eb552-0fcd-4df5-8bc8-7b51379e442b",
   "metadata": {},
   "outputs": [],
   "source": [
    "for p in json_orient_modes:\n",
    "        df.to_json(f\"./json/dados_ficticios_carga_incremental_e_controle_de_mudancas-json-orient-{p}.json\", orient=p)\n",
    "    "
   ]
  },
  {
   "cell_type": "markdown",
   "id": "da616764-9e55-4cbc-a9c3-e38ff9f8519f",
   "metadata": {},
   "source": [
    "## References\n",
    "\n",
    "* https://pandas.pydata.org/docs/reference/api/pandas.DataFrame.to_json.html\n",
    "* https://pandas.pydata.org/docs/reference/api/pandas.read_csv.html\n",
    "\n",
    "* https://pandas.pydata.org/pandas-docs/version/1.1/reference/api/pandas.DataFrame.to_parquet.html\n",
    "* https://pandas.pydata.org/docs/reference/api/pandas.DataFrame.to_csv.html"
   ]
  },
  {
   "cell_type": "code",
   "execution_count": null,
   "id": "64b400e6-ee3c-4c89-b028-f4010e10edbc",
   "metadata": {},
   "outputs": [],
   "source": []
  }
 ],
 "metadata": {
  "kernelspec": {
   "display_name": "Python 3",
   "language": "python",
   "name": "python3"
  },
  "language_info": {
   "codemirror_mode": {
    "name": "ipython",
    "version": 3
   },
   "file_extension": ".py",
   "mimetype": "text/x-python",
   "name": "python",
   "nbconvert_exporter": "python",
   "pygments_lexer": "ipython3",
   "version": "3.10.4"
  }
 },
 "nbformat": 4,
 "nbformat_minor": 5
}
